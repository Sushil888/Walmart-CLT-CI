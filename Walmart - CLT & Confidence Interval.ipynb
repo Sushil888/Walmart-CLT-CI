{
 "cells": [
  {
   "cell_type": "markdown",
   "id": "ce3028e0",
   "metadata": {},
   "source": [
    "## Walmart Inc. management team wants to Analyze customer behavior (specifically, purchase amount) by gender and other factors for better business decisions. They want to understand the spending habits: Do women spend more on Black Friday than men? (Assume 50 million customers of each gender)"
   ]
  },
  {
   "cell_type": "code",
   "execution_count": 207,
   "id": "b51fa545",
   "metadata": {},
   "outputs": [],
   "source": [
    "import numpy as np\n",
    "import pandas as pd\n",
    "import seaborn as sns\n",
    "import matplotlib.pyplot as plt\n",
    "import statsmodels\n",
    "from scipy.special import comb\n",
    "from scipy.stats import binom, norm, poisson, expon"
   ]
  },
  {
   "cell_type": "code",
   "execution_count": 211,
   "id": "f40dcc79",
   "metadata": {},
   "outputs": [
    {
     "data": {
      "text/html": [
       "<div>\n",
       "<style scoped>\n",
       "    .dataframe tbody tr th:only-of-type {\n",
       "        vertical-align: middle;\n",
       "    }\n",
       "\n",
       "    .dataframe tbody tr th {\n",
       "        vertical-align: top;\n",
       "    }\n",
       "\n",
       "    .dataframe thead th {\n",
       "        text-align: right;\n",
       "    }\n",
       "</style>\n",
       "<table border=\"1\" class=\"dataframe\">\n",
       "  <thead>\n",
       "    <tr style=\"text-align: right;\">\n",
       "      <th></th>\n",
       "      <th>User_ID</th>\n",
       "      <th>Product_ID</th>\n",
       "      <th>Gender</th>\n",
       "      <th>Age</th>\n",
       "      <th>Occupation</th>\n",
       "      <th>City_Category</th>\n",
       "      <th>Stay_In_Current_City_Years</th>\n",
       "      <th>Marital_Status</th>\n",
       "      <th>Product_Category</th>\n",
       "      <th>Purchase</th>\n",
       "    </tr>\n",
       "  </thead>\n",
       "  <tbody>\n",
       "    <tr>\n",
       "      <th>0</th>\n",
       "      <td>1000001</td>\n",
       "      <td>P00069042</td>\n",
       "      <td>F</td>\n",
       "      <td>0-17</td>\n",
       "      <td>10</td>\n",
       "      <td>A</td>\n",
       "      <td>2</td>\n",
       "      <td>0</td>\n",
       "      <td>3</td>\n",
       "      <td>8370</td>\n",
       "    </tr>\n",
       "    <tr>\n",
       "      <th>1</th>\n",
       "      <td>1000001</td>\n",
       "      <td>P00248942</td>\n",
       "      <td>F</td>\n",
       "      <td>0-17</td>\n",
       "      <td>10</td>\n",
       "      <td>A</td>\n",
       "      <td>2</td>\n",
       "      <td>0</td>\n",
       "      <td>1</td>\n",
       "      <td>15200</td>\n",
       "    </tr>\n",
       "    <tr>\n",
       "      <th>2</th>\n",
       "      <td>1000001</td>\n",
       "      <td>P00087842</td>\n",
       "      <td>F</td>\n",
       "      <td>0-17</td>\n",
       "      <td>10</td>\n",
       "      <td>A</td>\n",
       "      <td>2</td>\n",
       "      <td>0</td>\n",
       "      <td>12</td>\n",
       "      <td>1422</td>\n",
       "    </tr>\n",
       "    <tr>\n",
       "      <th>3</th>\n",
       "      <td>1000001</td>\n",
       "      <td>P00085442</td>\n",
       "      <td>F</td>\n",
       "      <td>0-17</td>\n",
       "      <td>10</td>\n",
       "      <td>A</td>\n",
       "      <td>2</td>\n",
       "      <td>0</td>\n",
       "      <td>12</td>\n",
       "      <td>1057</td>\n",
       "    </tr>\n",
       "    <tr>\n",
       "      <th>4</th>\n",
       "      <td>1000002</td>\n",
       "      <td>P00285442</td>\n",
       "      <td>M</td>\n",
       "      <td>55+</td>\n",
       "      <td>16</td>\n",
       "      <td>C</td>\n",
       "      <td>4+</td>\n",
       "      <td>0</td>\n",
       "      <td>8</td>\n",
       "      <td>7969</td>\n",
       "    </tr>\n",
       "    <tr>\n",
       "      <th>...</th>\n",
       "      <td>...</td>\n",
       "      <td>...</td>\n",
       "      <td>...</td>\n",
       "      <td>...</td>\n",
       "      <td>...</td>\n",
       "      <td>...</td>\n",
       "      <td>...</td>\n",
       "      <td>...</td>\n",
       "      <td>...</td>\n",
       "      <td>...</td>\n",
       "    </tr>\n",
       "    <tr>\n",
       "      <th>550063</th>\n",
       "      <td>1006033</td>\n",
       "      <td>P00372445</td>\n",
       "      <td>M</td>\n",
       "      <td>51-55</td>\n",
       "      <td>13</td>\n",
       "      <td>B</td>\n",
       "      <td>1</td>\n",
       "      <td>1</td>\n",
       "      <td>20</td>\n",
       "      <td>368</td>\n",
       "    </tr>\n",
       "    <tr>\n",
       "      <th>550064</th>\n",
       "      <td>1006035</td>\n",
       "      <td>P00375436</td>\n",
       "      <td>F</td>\n",
       "      <td>26-35</td>\n",
       "      <td>1</td>\n",
       "      <td>C</td>\n",
       "      <td>3</td>\n",
       "      <td>0</td>\n",
       "      <td>20</td>\n",
       "      <td>371</td>\n",
       "    </tr>\n",
       "    <tr>\n",
       "      <th>550065</th>\n",
       "      <td>1006036</td>\n",
       "      <td>P00375436</td>\n",
       "      <td>F</td>\n",
       "      <td>26-35</td>\n",
       "      <td>15</td>\n",
       "      <td>B</td>\n",
       "      <td>4+</td>\n",
       "      <td>1</td>\n",
       "      <td>20</td>\n",
       "      <td>137</td>\n",
       "    </tr>\n",
       "    <tr>\n",
       "      <th>550066</th>\n",
       "      <td>1006038</td>\n",
       "      <td>P00375436</td>\n",
       "      <td>F</td>\n",
       "      <td>55+</td>\n",
       "      <td>1</td>\n",
       "      <td>C</td>\n",
       "      <td>2</td>\n",
       "      <td>0</td>\n",
       "      <td>20</td>\n",
       "      <td>365</td>\n",
       "    </tr>\n",
       "    <tr>\n",
       "      <th>550067</th>\n",
       "      <td>1006039</td>\n",
       "      <td>P00371644</td>\n",
       "      <td>F</td>\n",
       "      <td>46-50</td>\n",
       "      <td>0</td>\n",
       "      <td>B</td>\n",
       "      <td>4+</td>\n",
       "      <td>1</td>\n",
       "      <td>20</td>\n",
       "      <td>490</td>\n",
       "    </tr>\n",
       "  </tbody>\n",
       "</table>\n",
       "<p>550068 rows × 10 columns</p>\n",
       "</div>"
      ],
      "text/plain": [
       "        User_ID Product_ID Gender    Age  Occupation City_Category  \\\n",
       "0       1000001  P00069042      F   0-17          10             A   \n",
       "1       1000001  P00248942      F   0-17          10             A   \n",
       "2       1000001  P00087842      F   0-17          10             A   \n",
       "3       1000001  P00085442      F   0-17          10             A   \n",
       "4       1000002  P00285442      M    55+          16             C   \n",
       "...         ...        ...    ...    ...         ...           ...   \n",
       "550063  1006033  P00372445      M  51-55          13             B   \n",
       "550064  1006035  P00375436      F  26-35           1             C   \n",
       "550065  1006036  P00375436      F  26-35          15             B   \n",
       "550066  1006038  P00375436      F    55+           1             C   \n",
       "550067  1006039  P00371644      F  46-50           0             B   \n",
       "\n",
       "       Stay_In_Current_City_Years  Marital_Status  Product_Category  Purchase  \n",
       "0                               2               0                 3      8370  \n",
       "1                               2               0                 1     15200  \n",
       "2                               2               0                12      1422  \n",
       "3                               2               0                12      1057  \n",
       "4                              4+               0                 8      7969  \n",
       "...                           ...             ...               ...       ...  \n",
       "550063                          1               1                20       368  \n",
       "550064                          3               0                20       371  \n",
       "550065                         4+               1                20       137  \n",
       "550066                          2               0                20       365  \n",
       "550067                         4+               1                20       490  \n",
       "\n",
       "[550068 rows x 10 columns]"
      ]
     },
     "execution_count": 211,
     "metadata": {},
     "output_type": "execute_result"
    }
   ],
   "source": [
    "df = pd.read_csv(\"C:/Users/asus/Downloads/walmart_data.txt\")\n",
    "df"
   ]
  },
  {
   "cell_type": "code",
   "execution_count": 166,
   "id": "16720e78",
   "metadata": {},
   "outputs": [
    {
     "data": {
      "text/plain": [
       "(550068, 10)"
      ]
     },
     "execution_count": 166,
     "metadata": {},
     "output_type": "execute_result"
    }
   ],
   "source": [
    "df.shape"
   ]
  },
  {
   "cell_type": "code",
   "execution_count": 167,
   "id": "45a45b70",
   "metadata": {},
   "outputs": [
    {
     "name": "stdout",
     "output_type": "stream",
     "text": [
      "<class 'pandas.core.frame.DataFrame'>\n",
      "RangeIndex: 550068 entries, 0 to 550067\n",
      "Data columns (total 10 columns):\n",
      " #   Column                      Non-Null Count   Dtype \n",
      "---  ------                      --------------   ----- \n",
      " 0   User_ID                     550068 non-null  int64 \n",
      " 1   Product_ID                  550068 non-null  object\n",
      " 2   Gender                      550068 non-null  object\n",
      " 3   Age                         550068 non-null  object\n",
      " 4   Occupation                  550068 non-null  int64 \n",
      " 5   City_Category               550068 non-null  object\n",
      " 6   Stay_In_Current_City_Years  550068 non-null  object\n",
      " 7   Marital_Status              550068 non-null  int64 \n",
      " 8   Product_Category            550068 non-null  int64 \n",
      " 9   Purchase                    550068 non-null  int64 \n",
      "dtypes: int64(5), object(5)\n",
      "memory usage: 42.0+ MB\n"
     ]
    }
   ],
   "source": [
    "df.info()"
   ]
  },
  {
   "cell_type": "code",
   "execution_count": 15,
   "id": "65a4028d",
   "metadata": {},
   "outputs": [
    {
     "data": {
      "text/html": [
       "<div>\n",
       "<style scoped>\n",
       "    .dataframe tbody tr th:only-of-type {\n",
       "        vertical-align: middle;\n",
       "    }\n",
       "\n",
       "    .dataframe tbody tr th {\n",
       "        vertical-align: top;\n",
       "    }\n",
       "\n",
       "    .dataframe thead th {\n",
       "        text-align: right;\n",
       "    }\n",
       "</style>\n",
       "<table border=\"1\" class=\"dataframe\">\n",
       "  <thead>\n",
       "    <tr style=\"text-align: right;\">\n",
       "      <th></th>\n",
       "      <th>User_ID</th>\n",
       "      <th>Product_ID</th>\n",
       "      <th>Gender</th>\n",
       "      <th>Age</th>\n",
       "      <th>Occupation</th>\n",
       "      <th>City_Category</th>\n",
       "      <th>Stay_In_Current_City_Years</th>\n",
       "      <th>Marital_Status</th>\n",
       "      <th>Product_Category</th>\n",
       "      <th>Purchase</th>\n",
       "    </tr>\n",
       "  </thead>\n",
       "  <tbody>\n",
       "    <tr>\n",
       "      <th>count</th>\n",
       "      <td>5.500680e+05</td>\n",
       "      <td>550068</td>\n",
       "      <td>550068</td>\n",
       "      <td>550068</td>\n",
       "      <td>550068.000000</td>\n",
       "      <td>550068</td>\n",
       "      <td>550068</td>\n",
       "      <td>550068.000000</td>\n",
       "      <td>550068.000000</td>\n",
       "      <td>550068.000000</td>\n",
       "    </tr>\n",
       "    <tr>\n",
       "      <th>unique</th>\n",
       "      <td>NaN</td>\n",
       "      <td>3631</td>\n",
       "      <td>2</td>\n",
       "      <td>7</td>\n",
       "      <td>NaN</td>\n",
       "      <td>3</td>\n",
       "      <td>5</td>\n",
       "      <td>NaN</td>\n",
       "      <td>NaN</td>\n",
       "      <td>NaN</td>\n",
       "    </tr>\n",
       "    <tr>\n",
       "      <th>top</th>\n",
       "      <td>NaN</td>\n",
       "      <td>P00265242</td>\n",
       "      <td>M</td>\n",
       "      <td>26-35</td>\n",
       "      <td>NaN</td>\n",
       "      <td>B</td>\n",
       "      <td>1</td>\n",
       "      <td>NaN</td>\n",
       "      <td>NaN</td>\n",
       "      <td>NaN</td>\n",
       "    </tr>\n",
       "    <tr>\n",
       "      <th>freq</th>\n",
       "      <td>NaN</td>\n",
       "      <td>1880</td>\n",
       "      <td>414259</td>\n",
       "      <td>219587</td>\n",
       "      <td>NaN</td>\n",
       "      <td>231173</td>\n",
       "      <td>193821</td>\n",
       "      <td>NaN</td>\n",
       "      <td>NaN</td>\n",
       "      <td>NaN</td>\n",
       "    </tr>\n",
       "    <tr>\n",
       "      <th>mean</th>\n",
       "      <td>1.003029e+06</td>\n",
       "      <td>NaN</td>\n",
       "      <td>NaN</td>\n",
       "      <td>NaN</td>\n",
       "      <td>8.076707</td>\n",
       "      <td>NaN</td>\n",
       "      <td>NaN</td>\n",
       "      <td>0.409653</td>\n",
       "      <td>5.404270</td>\n",
       "      <td>9263.968713</td>\n",
       "    </tr>\n",
       "    <tr>\n",
       "      <th>std</th>\n",
       "      <td>1.727592e+03</td>\n",
       "      <td>NaN</td>\n",
       "      <td>NaN</td>\n",
       "      <td>NaN</td>\n",
       "      <td>6.522660</td>\n",
       "      <td>NaN</td>\n",
       "      <td>NaN</td>\n",
       "      <td>0.491770</td>\n",
       "      <td>3.936211</td>\n",
       "      <td>5023.065394</td>\n",
       "    </tr>\n",
       "    <tr>\n",
       "      <th>min</th>\n",
       "      <td>1.000001e+06</td>\n",
       "      <td>NaN</td>\n",
       "      <td>NaN</td>\n",
       "      <td>NaN</td>\n",
       "      <td>0.000000</td>\n",
       "      <td>NaN</td>\n",
       "      <td>NaN</td>\n",
       "      <td>0.000000</td>\n",
       "      <td>1.000000</td>\n",
       "      <td>12.000000</td>\n",
       "    </tr>\n",
       "    <tr>\n",
       "      <th>25%</th>\n",
       "      <td>1.001516e+06</td>\n",
       "      <td>NaN</td>\n",
       "      <td>NaN</td>\n",
       "      <td>NaN</td>\n",
       "      <td>2.000000</td>\n",
       "      <td>NaN</td>\n",
       "      <td>NaN</td>\n",
       "      <td>0.000000</td>\n",
       "      <td>1.000000</td>\n",
       "      <td>5823.000000</td>\n",
       "    </tr>\n",
       "    <tr>\n",
       "      <th>50%</th>\n",
       "      <td>1.003077e+06</td>\n",
       "      <td>NaN</td>\n",
       "      <td>NaN</td>\n",
       "      <td>NaN</td>\n",
       "      <td>7.000000</td>\n",
       "      <td>NaN</td>\n",
       "      <td>NaN</td>\n",
       "      <td>0.000000</td>\n",
       "      <td>5.000000</td>\n",
       "      <td>8047.000000</td>\n",
       "    </tr>\n",
       "    <tr>\n",
       "      <th>75%</th>\n",
       "      <td>1.004478e+06</td>\n",
       "      <td>NaN</td>\n",
       "      <td>NaN</td>\n",
       "      <td>NaN</td>\n",
       "      <td>14.000000</td>\n",
       "      <td>NaN</td>\n",
       "      <td>NaN</td>\n",
       "      <td>1.000000</td>\n",
       "      <td>8.000000</td>\n",
       "      <td>12054.000000</td>\n",
       "    </tr>\n",
       "    <tr>\n",
       "      <th>max</th>\n",
       "      <td>1.006040e+06</td>\n",
       "      <td>NaN</td>\n",
       "      <td>NaN</td>\n",
       "      <td>NaN</td>\n",
       "      <td>20.000000</td>\n",
       "      <td>NaN</td>\n",
       "      <td>NaN</td>\n",
       "      <td>1.000000</td>\n",
       "      <td>20.000000</td>\n",
       "      <td>23961.000000</td>\n",
       "    </tr>\n",
       "  </tbody>\n",
       "</table>\n",
       "</div>"
      ],
      "text/plain": [
       "             User_ID Product_ID  Gender     Age     Occupation City_Category  \\\n",
       "count   5.500680e+05     550068  550068  550068  550068.000000        550068   \n",
       "unique           NaN       3631       2       7            NaN             3   \n",
       "top              NaN  P00265242       M   26-35            NaN             B   \n",
       "freq             NaN       1880  414259  219587            NaN        231173   \n",
       "mean    1.003029e+06        NaN     NaN     NaN       8.076707           NaN   \n",
       "std     1.727592e+03        NaN     NaN     NaN       6.522660           NaN   \n",
       "min     1.000001e+06        NaN     NaN     NaN       0.000000           NaN   \n",
       "25%     1.001516e+06        NaN     NaN     NaN       2.000000           NaN   \n",
       "50%     1.003077e+06        NaN     NaN     NaN       7.000000           NaN   \n",
       "75%     1.004478e+06        NaN     NaN     NaN      14.000000           NaN   \n",
       "max     1.006040e+06        NaN     NaN     NaN      20.000000           NaN   \n",
       "\n",
       "       Stay_In_Current_City_Years  Marital_Status  Product_Category  \\\n",
       "count                      550068   550068.000000     550068.000000   \n",
       "unique                          5             NaN               NaN   \n",
       "top                             1             NaN               NaN   \n",
       "freq                       193821             NaN               NaN   \n",
       "mean                          NaN        0.409653          5.404270   \n",
       "std                           NaN        0.491770          3.936211   \n",
       "min                           NaN        0.000000          1.000000   \n",
       "25%                           NaN        0.000000          1.000000   \n",
       "50%                           NaN        0.000000          5.000000   \n",
       "75%                           NaN        1.000000          8.000000   \n",
       "max                           NaN        1.000000         20.000000   \n",
       "\n",
       "             Purchase  \n",
       "count   550068.000000  \n",
       "unique            NaN  \n",
       "top               NaN  \n",
       "freq              NaN  \n",
       "mean      9263.968713  \n",
       "std       5023.065394  \n",
       "min         12.000000  \n",
       "25%       5823.000000  \n",
       "50%       8047.000000  \n",
       "75%      12054.000000  \n",
       "max      23961.000000  "
      ]
     },
     "execution_count": 15,
     "metadata": {},
     "output_type": "execute_result"
    }
   ],
   "source": [
    "df.describe(include='all')"
   ]
  },
  {
   "cell_type": "code",
   "execution_count": 17,
   "id": "59dcff0d",
   "metadata": {},
   "outputs": [
    {
     "data": {
      "text/plain": [
       "0"
      ]
     },
     "execution_count": 17,
     "metadata": {},
     "output_type": "execute_result"
    }
   ],
   "source": [
    "df.isnull().sum().sum()"
   ]
  },
  {
   "cell_type": "markdown",
   "id": "3a5218f9",
   "metadata": {},
   "source": [
    "### Gender evaluation"
   ]
  },
  {
   "cell_type": "code",
   "execution_count": 22,
   "id": "f9864eca",
   "metadata": {},
   "outputs": [
    {
     "data": {
      "text/plain": [
       "M    75.310507\n",
       "F    24.689493\n",
       "Name: Gender, dtype: float64"
      ]
     },
     "execution_count": 22,
     "metadata": {},
     "output_type": "execute_result"
    }
   ],
   "source": [
    "df[\"Gender\"].value_counts(normalize=True)*100"
   ]
  },
  {
   "cell_type": "code",
   "execution_count": 25,
   "id": "80af9fbe",
   "metadata": {},
   "outputs": [
    {
     "data": {
      "text/plain": [
       "Gender\n",
       "F    1186232642\n",
       "M    3909580100\n",
       "Name: Purchase, dtype: int64"
      ]
     },
     "execution_count": 25,
     "metadata": {},
     "output_type": "execute_result"
    }
   ],
   "source": [
    "df.groupby('Gender')['Purchase'].sum()"
   ]
  },
  {
   "cell_type": "code",
   "execution_count": 26,
   "id": "aea38855",
   "metadata": {},
   "outputs": [
    {
     "data": {
      "text/html": [
       "<div>\n",
       "<style scoped>\n",
       "    .dataframe tbody tr th:only-of-type {\n",
       "        vertical-align: middle;\n",
       "    }\n",
       "\n",
       "    .dataframe tbody tr th {\n",
       "        vertical-align: top;\n",
       "    }\n",
       "\n",
       "    .dataframe thead th {\n",
       "        text-align: right;\n",
       "    }\n",
       "</style>\n",
       "<table border=\"1\" class=\"dataframe\">\n",
       "  <thead>\n",
       "    <tr style=\"text-align: right;\">\n",
       "      <th></th>\n",
       "      <th>count</th>\n",
       "      <th>mean</th>\n",
       "      <th>std</th>\n",
       "      <th>min</th>\n",
       "      <th>25%</th>\n",
       "      <th>50%</th>\n",
       "      <th>75%</th>\n",
       "      <th>max</th>\n",
       "    </tr>\n",
       "    <tr>\n",
       "      <th>Gender</th>\n",
       "      <th></th>\n",
       "      <th></th>\n",
       "      <th></th>\n",
       "      <th></th>\n",
       "      <th></th>\n",
       "      <th></th>\n",
       "      <th></th>\n",
       "      <th></th>\n",
       "    </tr>\n",
       "  </thead>\n",
       "  <tbody>\n",
       "    <tr>\n",
       "      <th>F</th>\n",
       "      <td>135809.0</td>\n",
       "      <td>8734.565765</td>\n",
       "      <td>4767.233289</td>\n",
       "      <td>12.0</td>\n",
       "      <td>5433.0</td>\n",
       "      <td>7914.0</td>\n",
       "      <td>11400.0</td>\n",
       "      <td>23959.0</td>\n",
       "    </tr>\n",
       "    <tr>\n",
       "      <th>M</th>\n",
       "      <td>414259.0</td>\n",
       "      <td>9437.526040</td>\n",
       "      <td>5092.186210</td>\n",
       "      <td>12.0</td>\n",
       "      <td>5863.0</td>\n",
       "      <td>8098.0</td>\n",
       "      <td>12454.0</td>\n",
       "      <td>23961.0</td>\n",
       "    </tr>\n",
       "  </tbody>\n",
       "</table>\n",
       "</div>"
      ],
      "text/plain": [
       "           count         mean          std   min     25%     50%      75%  \\\n",
       "Gender                                                                      \n",
       "F       135809.0  8734.565765  4767.233289  12.0  5433.0  7914.0  11400.0   \n",
       "M       414259.0  9437.526040  5092.186210  12.0  5863.0  8098.0  12454.0   \n",
       "\n",
       "            max  \n",
       "Gender           \n",
       "F       23959.0  \n",
       "M       23961.0  "
      ]
     },
     "execution_count": 26,
     "metadata": {},
     "output_type": "execute_result"
    }
   ],
   "source": [
    "df.groupby('Gender')['Purchase'].describe()"
   ]
  },
  {
   "cell_type": "code",
   "execution_count": 117,
   "id": "c712aefa",
   "metadata": {},
   "outputs": [
    {
     "data": {
      "text/plain": [
       "<AxesSubplot:xlabel='Gender', ylabel='Purchase'>"
      ]
     },
     "execution_count": 117,
     "metadata": {},
     "output_type": "execute_result"
    },
    {
     "data": {
      "image/png": "[encoded data removed]",
      "text/plain": [
       "<Figure size 800x400 with 1 Axes>"
      ]
     },
     "metadata": {},
     "output_type": "display_data"
    }
   ],
   "source": [
    "plt.figure(figsize=(8,4))\n",
    "sns.boxplot(x='Gender', y='Purchase', data=df)\n",
    "# from this boxplot and above(describe), 50% shows that median purchage for male and female is almost the same"
   ]
  },
  {
   "cell_type": "markdown",
   "id": "703ed191",
   "metadata": {},
   "source": [
    "## 👆Median purchase amount for male(with mean=9437) and female(with mean=8734) is almost the same despite the huge difference in number of males and females\n"
   ]
  },
  {
   "cell_type": "code",
   "execution_count": 28,
   "id": "67368af2",
   "metadata": {},
   "outputs": [
    {
     "data": {
      "text/plain": [
       "Gender\n",
       "F    1666\n",
       "M    4225\n",
       "Name: User_ID, dtype: int64"
      ]
     },
     "execution_count": 28,
     "metadata": {},
     "output_type": "execute_result"
    }
   ],
   "source": [
    "# we need to assume for 50 million, checking how many unique ids are there\n",
    "df.groupby('Gender')['User_ID'].nunique()"
   ]
  },
  {
   "cell_type": "markdown",
   "id": "f9437b7b",
   "metadata": {},
   "source": [
    "## 👆Need to extrapolate 50 million male and female based on thsese 1666 female and 4225 males"
   ]
  },
  {
   "cell_type": "code",
   "execution_count": 38,
   "id": "6e017a07",
   "metadata": {},
   "outputs": [
    {
     "data": {
      "text/html": [
       "<div>\n",
       "<style scoped>\n",
       "    .dataframe tbody tr th:only-of-type {\n",
       "        vertical-align: middle;\n",
       "    }\n",
       "\n",
       "    .dataframe tbody tr th {\n",
       "        vertical-align: top;\n",
       "    }\n",
       "\n",
       "    .dataframe thead th {\n",
       "        text-align: right;\n",
       "    }\n",
       "</style>\n",
       "<table border=\"1\" class=\"dataframe\">\n",
       "  <thead>\n",
       "    <tr style=\"text-align: right;\">\n",
       "      <th></th>\n",
       "      <th>count</th>\n",
       "      <th>mean</th>\n",
       "      <th>std</th>\n",
       "      <th>min</th>\n",
       "      <th>25%</th>\n",
       "      <th>50%</th>\n",
       "      <th>75%</th>\n",
       "      <th>max</th>\n",
       "    </tr>\n",
       "    <tr>\n",
       "      <th>Gender</th>\n",
       "      <th></th>\n",
       "      <th></th>\n",
       "      <th></th>\n",
       "      <th></th>\n",
       "      <th></th>\n",
       "      <th></th>\n",
       "      <th></th>\n",
       "      <th></th>\n",
       "    </tr>\n",
       "  </thead>\n",
       "  <tbody>\n",
       "    <tr>\n",
       "      <th>F</th>\n",
       "      <td>113.0</td>\n",
       "      <td>8109.893805</td>\n",
       "      <td>4217.801072</td>\n",
       "      <td>49.0</td>\n",
       "      <td>5332.0</td>\n",
       "      <td>7807.0</td>\n",
       "      <td>10074.0</td>\n",
       "      <td>20855.0</td>\n",
       "    </tr>\n",
       "    <tr>\n",
       "      <th>M</th>\n",
       "      <td>387.0</td>\n",
       "      <td>9430.250646</td>\n",
       "      <td>5049.857400</td>\n",
       "      <td>62.0</td>\n",
       "      <td>5911.0</td>\n",
       "      <td>7993.0</td>\n",
       "      <td>12484.0</td>\n",
       "      <td>23671.0</td>\n",
       "    </tr>\n",
       "  </tbody>\n",
       "</table>\n",
       "</div>"
      ],
      "text/plain": [
       "        count         mean          std   min     25%     50%      75%  \\\n",
       "Gender                                                                   \n",
       "F       113.0  8109.893805  4217.801072  49.0  5332.0  7807.0  10074.0   \n",
       "M       387.0  9430.250646  5049.857400  62.0  5911.0  7993.0  12484.0   \n",
       "\n",
       "            max  \n",
       "Gender           \n",
       "F       20855.0  \n",
       "M       23671.0  "
      ]
     },
     "execution_count": 38,
     "metadata": {},
     "output_type": "execute_result"
    }
   ],
   "source": [
    "# getting the same describe on a sample of 500 purchases\n",
    "df.sample(500).groupby('Gender')['Purchase'].describe()"
   ]
  },
  {
   "cell_type": "code",
   "execution_count": 135,
   "id": "10551327",
   "metadata": {},
   "outputs": [
    {
     "data": {
      "text/plain": [
       "<seaborn.axisgrid.FacetGrid at 0x17616f96880>"
      ]
     },
     "execution_count": 135,
     "metadata": {},
     "output_type": "execute_result"
    },
    {
     "data": {
      "image/png": "[encoded data removed]",
      "text/plain": [
       "<Figure size 500x500 with 1 Axes>"
      ]
     },
     "metadata": {},
     "output_type": "display_data"
    }
   ],
   "source": [
    "male_sample_trend = []\n",
    "for i in range(1000):    \n",
    "    sample_mean = df[df['Gender']=='M'].sample(500, replace=True)['Purchase'].mean()\n",
    "    male_sample_trend.append(sample_mean)\n",
    "sns.displot(male_sample_trend)"
   ]
  },
  {
   "cell_type": "code",
   "execution_count": 136,
   "id": "f1117abe",
   "metadata": {},
   "outputs": [
    {
     "data": {
      "text/plain": [
       "<seaborn.axisgrid.FacetGrid at 0x1761700c640>"
      ]
     },
     "execution_count": 136,
     "metadata": {},
     "output_type": "execute_result"
    },
    {
     "data": {
      "image/png": "[encoded data removed]",
      "text/plain": [
       "<Figure size 500x500 with 1 Axes>"
      ]
     },
     "metadata": {},
     "output_type": "display_data"
    }
   ],
   "source": [
    "female_sample_trend= []\n",
    "for i in range(1000):\n",
    "    f_sample_mean = df[df['Gender']=='F'].sample(500, replace=True)['Purchase'].mean()\n",
    "    female_sample_trend.append(f_sample_mean)\n",
    "sns.displot(female_sample_trend)  "
   ]
  },
  {
   "cell_type": "code",
   "execution_count": 137,
   "id": "b937ad0c",
   "metadata": {},
   "outputs": [
    {
     "data": {
      "text/plain": [
       "(9014.535248708962, 9862.260407291036)"
      ]
     },
     "execution_count": 137,
     "metadata": {},
     "output_type": "execute_result"
    }
   ],
   "source": [
    "male_upper_limit= np.mean(male_sample_trend) + 1.96 * np.std(male_sample_trend)\n",
    "male_lower_limit= np.mean(male_sample_trend) - 1.96 * np.std(male_sample_trend)\n",
    "male_lower_limit, male_upper_limit"
   ]
  },
  {
   "cell_type": "code",
   "execution_count": 138,
   "id": "604e41a2",
   "metadata": {},
   "outputs": [
    {
     "data": {
      "text/plain": [
       "(8315.019653859605, 9156.470390140394)"
      ]
     },
     "execution_count": 138,
     "metadata": {},
     "output_type": "execute_result"
    }
   ],
   "source": [
    "female_upper_limit= np.mean(female_sample_trend) + 1.96 * np.std(female_sample_trend)\n",
    "female_lower_limit= np.mean(female_sample_trend) - 1.96 * np.std(female_sample_trend)\n",
    "female_lower_limit, female_upper_limit"
   ]
  },
  {
   "cell_type": "markdown",
   "id": "fdc05928",
   "metadata": {},
   "source": [
    "# 👆Since the the number(purchase) is overlapping on the confidence interval of 95%, we can not infer anything, need to try either chaging the sample size or confidence interval."
   ]
  },
  {
   "cell_type": "markdown",
   "id": "e395885c",
   "metadata": {},
   "source": [
    "## 👇Changing the confidence interval to 90%"
   ]
  },
  {
   "cell_type": "code",
   "execution_count": 141,
   "id": "3c49ddb0",
   "metadata": {},
   "outputs": [
    {
     "data": {
      "text/plain": [
       "array([9057.2269, 9783.2858])"
      ]
     },
     "execution_count": 141,
     "metadata": {},
     "output_type": "execute_result"
    }
   ],
   "source": [
    "male_mean_at_90 = np.percentile(male_sample_trend, [5,95])\n",
    "male_mean_at_90"
   ]
  },
  {
   "cell_type": "code",
   "execution_count": 142,
   "id": "8a767bb6",
   "metadata": {},
   "outputs": [
    {
     "data": {
      "text/plain": [
       "array([8378.0862, 9092.7196])"
      ]
     },
     "execution_count": 142,
     "metadata": {},
     "output_type": "execute_result"
    }
   ],
   "source": [
    "female_mean_at_90 = np.percentile(female_sample_trend, [5,95])\n",
    "female_mean_at_90"
   ]
  },
  {
   "cell_type": "markdown",
   "id": "7100a5f2",
   "metadata": {},
   "source": [
    "## 👆With 90 % confidence level, we can say that the average purchase amount of female is a little less that that of male"
   ]
  },
  {
   "cell_type": "markdown",
   "id": "2b740594",
   "metadata": {},
   "source": [
    "# 👇Exploration on 'Marital Status'"
   ]
  },
  {
   "cell_type": "code",
   "execution_count": 178,
   "id": "34edcf33",
   "metadata": {},
   "outputs": [
    {
     "data": {
      "text/plain": [
       "0    59.034701\n",
       "1    40.965299\n",
       "Name: Marital_Status, dtype: float64"
      ]
     },
     "execution_count": 178,
     "metadata": {},
     "output_type": "execute_result"
    }
   ],
   "source": [
    "df[\"Marital_Status\"].value_counts(normalize=True)*100"
   ]
  },
  {
   "cell_type": "code",
   "execution_count": 182,
   "id": "b26da75a",
   "metadata": {},
   "outputs": [
    {
     "data": {
      "text/html": [
       "<div>\n",
       "<style scoped>\n",
       "    .dataframe tbody tr th:only-of-type {\n",
       "        vertical-align: middle;\n",
       "    }\n",
       "\n",
       "    .dataframe tbody tr th {\n",
       "        vertical-align: top;\n",
       "    }\n",
       "\n",
       "    .dataframe thead th {\n",
       "        text-align: right;\n",
       "    }\n",
       "</style>\n",
       "<table border=\"1\" class=\"dataframe\">\n",
       "  <thead>\n",
       "    <tr style=\"text-align: right;\">\n",
       "      <th></th>\n",
       "      <th>count</th>\n",
       "      <th>mean</th>\n",
       "      <th>std</th>\n",
       "      <th>min</th>\n",
       "      <th>25%</th>\n",
       "      <th>50%</th>\n",
       "      <th>75%</th>\n",
       "      <th>max</th>\n",
       "    </tr>\n",
       "    <tr>\n",
       "      <th>Marital_Status</th>\n",
       "      <th></th>\n",
       "      <th></th>\n",
       "      <th></th>\n",
       "      <th></th>\n",
       "      <th></th>\n",
       "      <th></th>\n",
       "      <th></th>\n",
       "      <th></th>\n",
       "    </tr>\n",
       "  </thead>\n",
       "  <tbody>\n",
       "    <tr>\n",
       "      <th>0</th>\n",
       "      <td>324731.0</td>\n",
       "      <td>9265.907619</td>\n",
       "      <td>5027.347859</td>\n",
       "      <td>12.0</td>\n",
       "      <td>5605.0</td>\n",
       "      <td>8044.0</td>\n",
       "      <td>12061.0</td>\n",
       "      <td>23961.0</td>\n",
       "    </tr>\n",
       "    <tr>\n",
       "      <th>1</th>\n",
       "      <td>225337.0</td>\n",
       "      <td>9261.174574</td>\n",
       "      <td>5016.897378</td>\n",
       "      <td>12.0</td>\n",
       "      <td>5843.0</td>\n",
       "      <td>8051.0</td>\n",
       "      <td>12042.0</td>\n",
       "      <td>23961.0</td>\n",
       "    </tr>\n",
       "  </tbody>\n",
       "</table>\n",
       "</div>"
      ],
      "text/plain": [
       "                   count         mean          std   min     25%     50%  \\\n",
       "Marital_Status                                                             \n",
       "0               324731.0  9265.907619  5027.347859  12.0  5605.0  8044.0   \n",
       "1               225337.0  9261.174574  5016.897378  12.0  5843.0  8051.0   \n",
       "\n",
       "                    75%      max  \n",
       "Marital_Status                    \n",
       "0               12061.0  23961.0  \n",
       "1               12042.0  23961.0  "
      ]
     },
     "execution_count": 182,
     "metadata": {},
     "output_type": "execute_result"
    }
   ],
   "source": [
    "df.groupby('Marital_Status')['Purchase'].describe()"
   ]
  },
  {
   "cell_type": "code",
   "execution_count": 183,
   "id": "c659a29a",
   "metadata": {},
   "outputs": [
    {
     "data": {
      "text/plain": [
       "<AxesSubplot:xlabel='Marital_Status', ylabel='Purchase'>"
      ]
     },
     "execution_count": 183,
     "metadata": {},
     "output_type": "execute_result"
    },
    {
     "data": {
      "image/png": "[encoded data removed]",
      "text/plain": [
       "<Figure size 800x400 with 1 Axes>"
      ]
     },
     "metadata": {},
     "output_type": "display_data"
    }
   ],
   "source": [
    "plt.figure(figsize=(8,4))\n",
    "sns.boxplot(x='Marital_Status', y='Purchase', data=df)"
   ]
  },
  {
   "cell_type": "markdown",
   "id": "2c7e28fc",
   "metadata": {},
   "source": [
    "## 👆 Mean & Median both are same Married and single. (Considering the value '0' as single and '1' as married)"
   ]
  },
  {
   "cell_type": "markdown",
   "id": "0fb2794a",
   "metadata": {},
   "source": [
    "# 👇Bootstrapping 1000 times with sample size of 500"
   ]
  },
  {
   "cell_type": "code",
   "execution_count": 193,
   "id": "0a8736d0",
   "metadata": {},
   "outputs": [
    {
     "data": {
      "text/plain": [
       "<AxesSubplot:ylabel='Count'>"
      ]
     },
     "execution_count": 193,
     "metadata": {},
     "output_type": "execute_result"
    },
    {
     "data": {
      "image/png": "[encoded data removed]",
      "text/plain": [
       "<Figure size 640x480 with 1 Axes>"
      ]
     },
     "metadata": {},
     "output_type": "display_data"
    }
   ],
   "source": [
    "Married_mean_trend = []\n",
    "for i in range(1000):    \n",
    "    sample_mean = df[df['Marital_Status']==1].sample(500, replace=True)['Purchase'].mean()\n",
    "    Married_mean_trend.append(sample_mean)\n",
    "sns.histplot(Married_mean_trend)"
   ]
  },
  {
   "cell_type": "code",
   "execution_count": 194,
   "id": "f6fceb0b",
   "metadata": {},
   "outputs": [
    {
     "data": {
      "text/plain": [
       "<AxesSubplot:ylabel='Count'>"
      ]
     },
     "execution_count": 194,
     "metadata": {},
     "output_type": "execute_result"
    },
    {
     "data": {
      "image/png": "[encoded data removed]",
      "text/plain": [
       "<Figure size 640x480 with 1 Axes>"
      ]
     },
     "metadata": {},
     "output_type": "display_data"
    }
   ],
   "source": [
    "Unmarried_mean_trend = []\n",
    "for i in range(1000):    \n",
    "    sample_mean = df[df['Marital_Status']==0].sample(500, replace=True)['Purchase'].mean()\n",
    "    Unmarried_mean_trend.append(sample_mean)\n",
    "sns.histplot(Unmarried_mean_trend)"
   ]
  },
  {
   "cell_type": "markdown",
   "id": "6a2c06d4",
   "metadata": {},
   "source": [
    "# 👇Checking the mean purchase for both gender at 95% CI"
   ]
  },
  {
   "cell_type": "code",
   "execution_count": 197,
   "id": "2e42159a",
   "metadata": {},
   "outputs": [
    {
     "data": {
      "text/plain": [
       "array([8856.2452, 9666.941 ])"
      ]
     },
     "execution_count": 197,
     "metadata": {},
     "output_type": "execute_result"
    }
   ],
   "source": [
    "Married_mean_at_95 = np.percentile(Married_mean_trend, [2.5,97.5])\n",
    "Married_mean_at_95"
   ]
  },
  {
   "cell_type": "code",
   "execution_count": 198,
   "id": "6eea4bf8",
   "metadata": {},
   "outputs": [
    {
     "data": {
      "text/plain": [
       "array([8852.0671, 9707.9992])"
      ]
     },
     "execution_count": 198,
     "metadata": {},
     "output_type": "execute_result"
    }
   ],
   "source": [
    "Unmarried_mean_at_95 = np.percentile(Unmarried_mean_trend, [2.5,97.5])\n",
    "Unmarried_mean_at_95"
   ]
  },
  {
   "cell_type": "markdown",
   "id": "0d4aead8",
   "metadata": {},
   "source": [
    "# 👇At 90% CI"
   ]
  },
  {
   "cell_type": "code",
   "execution_count": 201,
   "id": "bbfb2a9c",
   "metadata": {},
   "outputs": [
    {
     "data": {
      "text/plain": [
       "array([8913.7172, 9614.4567])"
      ]
     },
     "execution_count": 201,
     "metadata": {},
     "output_type": "execute_result"
    }
   ],
   "source": [
    "Married_mean_at_90 = np.percentile(Married_mean_trend, [5, 95])\n",
    "Married_mean_at_90"
   ]
  },
  {
   "cell_type": "code",
   "execution_count": 202,
   "id": "fe517bb4",
   "metadata": {},
   "outputs": [
    {
     "data": {
      "text/plain": [
       "array([8906.4866, 9645.4848])"
      ]
     },
     "execution_count": 202,
     "metadata": {},
     "output_type": "execute_result"
    }
   ],
   "source": [
    "Unmarried_mean_at_90 = np.percentile(Unmarried_mean_trend, [5, 95])\n",
    "Unmarried_mean_at_90"
   ]
  },
  {
   "cell_type": "markdown",
   "id": "0519c2ad",
   "metadata": {},
   "source": [
    "# 👇At 99% CI"
   ]
  },
  {
   "cell_type": "code",
   "execution_count": 231,
   "id": "ea5800ad",
   "metadata": {},
   "outputs": [
    {
     "data": {
      "text/plain": [
       "array([8723.31276, 9855.58507])"
      ]
     },
     "execution_count": 231,
     "metadata": {},
     "output_type": "execute_result"
    }
   ],
   "source": [
    "Married_mean_at_99 = np.percentile(Married_mean_trend, [0.5, 99.5])\n",
    "Married_mean_at_99"
   ]
  },
  {
   "cell_type": "code",
   "execution_count": 232,
   "id": "a5786cc8",
   "metadata": {},
   "outputs": [
    {
     "data": {
      "text/plain": [
       "array([8689.23491, 9835.51772])"
      ]
     },
     "execution_count": 232,
     "metadata": {},
     "output_type": "execute_result"
    }
   ],
   "source": [
    "Unmarried_mean_at_99 = np.percentile(Unmarried_mean_trend, [0.5, 99.5])\n",
    "Unmarried_mean_at_99"
   ]
  },
  {
   "cell_type": "markdown",
   "id": "19b6e471",
   "metadata": {},
   "source": [
    "## 👆 Values of CIs are overlapping for all given confidence levels(90, 95 & 99)"
   ]
  },
  {
   "cell_type": "markdown",
   "id": "42aa201b",
   "metadata": {},
   "source": [
    "# 👇Changing the sample size to 800"
   ]
  },
  {
   "cell_type": "code",
   "execution_count": 203,
   "id": "75f41802",
   "metadata": {},
   "outputs": [
    {
     "data": {
      "text/plain": [
       "<AxesSubplot:ylabel='Count'>"
      ]
     },
     "execution_count": 203,
     "metadata": {},
     "output_type": "execute_result"
    },
    {
     "data": {
      "image/png": "[encoded data removed]",
      "text/plain": [
       "<Figure size 640x480 with 1 Axes>"
      ]
     },
     "metadata": {},
     "output_type": "display_data"
    }
   ],
   "source": [
    "Married_mean_trend_1 = []\n",
    "for i in range(1000):    \n",
    "    sample_mean = df[df['Marital_Status']==1].sample(800, replace=True)['Purchase'].mean()\n",
    "    Married_mean_trend_1.append(sample_mean)\n",
    "sns.histplot(Married_mean_trend_1)"
   ]
  },
  {
   "cell_type": "code",
   "execution_count": 204,
   "id": "787bb72d",
   "metadata": {},
   "outputs": [
    {
     "data": {
      "text/plain": [
       "<AxesSubplot:ylabel='Count'>"
      ]
     },
     "execution_count": 204,
     "metadata": {},
     "output_type": "execute_result"
    },
    {
     "data": {
      "image/png": "[encoded data removed]",
      "text/plain": [
       "<Figure size 640x480 with 1 Axes>"
      ]
     },
     "metadata": {},
     "output_type": "display_data"
    }
   ],
   "source": [
    "Unmarried_mean_trend_1 = []\n",
    "for i in range(1000):    \n",
    "    sample_mean = df[df['Marital_Status']==0].sample(800, replace=True)['Purchase'].mean()\n",
    "    Unmarried_mean_trend_1.append(sample_mean)\n",
    "sns.histplot(Unmarried_mean_trend_1)"
   ]
  },
  {
   "cell_type": "code",
   "execution_count": 205,
   "id": "04751256",
   "metadata": {},
   "outputs": [
    {
     "data": {
      "text/plain": [
       "array([8961.1201875, 9549.1381875])"
      ]
     },
     "execution_count": 205,
     "metadata": {},
     "output_type": "execute_result"
    }
   ],
   "source": [
    "Married_90 = np.percentile(Married_mean_trend_1, [5, 95])\n",
    "Married_90"
   ]
  },
  {
   "cell_type": "code",
   "execution_count": 206,
   "id": "84e156e3",
   "metadata": {},
   "outputs": [
    {
     "data": {
      "text/plain": [
       "array([8965.79675  , 9573.9941875])"
      ]
     },
     "execution_count": 206,
     "metadata": {},
     "output_type": "execute_result"
    }
   ],
   "source": [
    "Unmarried_90 = np.percentile(Unmarried_mean_trend_1, [5, 95])\n",
    "Unmarried_90"
   ]
  },
  {
   "cell_type": "markdown",
   "id": "428af57e",
   "metadata": {},
   "source": [
    "## 👆sample size does not make a difference"
   ]
  },
  {
   "cell_type": "markdown",
   "id": "c7afb751",
   "metadata": {},
   "source": [
    "# 👇Exploration on Age"
   ]
  },
  {
   "cell_type": "code",
   "execution_count": 195,
   "id": "ff72dde9",
   "metadata": {},
   "outputs": [
    {
     "data": {
      "text/plain": [
       "26-35    39.919974\n",
       "36-50    28.308136\n",
       "18-25    18.117760\n",
       "51+      10.908651\n",
       "0-17      2.745479\n",
       "Name: Age, dtype: float64"
      ]
     },
     "execution_count": 195,
     "metadata": {},
     "output_type": "execute_result"
    }
   ],
   "source": [
    "# Value counts of the age groups\n",
    "df['Age'].value_counts(normalize=True)*100"
   ]
  },
  {
   "cell_type": "markdown",
   "id": "28ef00ce",
   "metadata": {},
   "source": [
    "## 👇Changing the age group in only 3 categoties '0-25', '26-50', & '51+'"
   ]
  },
  {
   "cell_type": "code",
   "execution_count": 212,
   "id": "8e7a3a45",
   "metadata": {},
   "outputs": [
    {
     "data": {
      "text/plain": [
       "26-50    68.228110\n",
       "0-25     20.863239\n",
       "51+      10.908651\n",
       "Name: Age, dtype: float64"
      ]
     },
     "execution_count": 212,
     "metadata": {},
     "output_type": "execute_result"
    }
   ],
   "source": [
    "df['Age'] = df['Age'].replace({'0-17':'0-25', '18-25':'0-25','26-35':'26-50', '36-45':'26-50', \n",
    "                               '46-50':'26-50', '51-55':'51+', '55+':'51+'})\n",
    "df['Age'].value_counts(normalize=True)*100"
   ]
  },
  {
   "cell_type": "code",
   "execution_count": 213,
   "id": "bb457d0d",
   "metadata": {},
   "outputs": [
    {
     "data": {
      "text/plain": [
       "Age\n",
       "0-25     20.580856\n",
       "26-50    68.275348\n",
       "51+      11.143797\n",
       "Name: Purchase, dtype: float64"
      ]
     },
     "execution_count": 213,
     "metadata": {},
     "output_type": "execute_result"
    }
   ],
   "source": [
    "df.groupby('Age')['Purchase'].sum() / df['Purchase'].sum() *100"
   ]
  },
  {
   "cell_type": "code",
   "execution_count": 214,
   "id": "ecfb1633",
   "metadata": {},
   "outputs": [
    {
     "data": {
      "text/html": [
       "<div>\n",
       "<style scoped>\n",
       "    .dataframe tbody tr th:only-of-type {\n",
       "        vertical-align: middle;\n",
       "    }\n",
       "\n",
       "    .dataframe tbody tr th {\n",
       "        vertical-align: top;\n",
       "    }\n",
       "\n",
       "    .dataframe thead th {\n",
       "        text-align: right;\n",
       "    }\n",
       "</style>\n",
       "<table border=\"1\" class=\"dataframe\">\n",
       "  <thead>\n",
       "    <tr style=\"text-align: right;\">\n",
       "      <th></th>\n",
       "      <th>count</th>\n",
       "      <th>mean</th>\n",
       "      <th>std</th>\n",
       "      <th>min</th>\n",
       "      <th>25%</th>\n",
       "      <th>50%</th>\n",
       "      <th>75%</th>\n",
       "      <th>max</th>\n",
       "    </tr>\n",
       "    <tr>\n",
       "      <th>Age</th>\n",
       "      <th></th>\n",
       "      <th></th>\n",
       "      <th></th>\n",
       "      <th></th>\n",
       "      <th></th>\n",
       "      <th></th>\n",
       "      <th></th>\n",
       "      <th></th>\n",
       "    </tr>\n",
       "  </thead>\n",
       "  <tbody>\n",
       "    <tr>\n",
       "      <th>0-25</th>\n",
       "      <td>114762.0</td>\n",
       "      <td>9138.581220</td>\n",
       "      <td>5045.103594</td>\n",
       "      <td>12.0</td>\n",
       "      <td>5405.0</td>\n",
       "      <td>8022.0</td>\n",
       "      <td>12013.0</td>\n",
       "      <td>23958.0</td>\n",
       "    </tr>\n",
       "    <tr>\n",
       "      <th>26-50</th>\n",
       "      <td>375301.0</td>\n",
       "      <td>9270.382613</td>\n",
       "      <td>5009.074262</td>\n",
       "      <td>12.0</td>\n",
       "      <td>5831.0</td>\n",
       "      <td>8040.0</td>\n",
       "      <td>12059.0</td>\n",
       "      <td>23961.0</td>\n",
       "    </tr>\n",
       "    <tr>\n",
       "      <th>51+</th>\n",
       "      <td>60005.0</td>\n",
       "      <td>9463.661678</td>\n",
       "      <td>5061.161476</td>\n",
       "      <td>12.0</td>\n",
       "      <td>6018.0</td>\n",
       "      <td>8122.0</td>\n",
       "      <td>12106.0</td>\n",
       "      <td>23960.0</td>\n",
       "    </tr>\n",
       "  </tbody>\n",
       "</table>\n",
       "</div>"
      ],
      "text/plain": [
       "          count         mean          std   min     25%     50%      75%  \\\n",
       "Age                                                                        \n",
       "0-25   114762.0  9138.581220  5045.103594  12.0  5405.0  8022.0  12013.0   \n",
       "26-50  375301.0  9270.382613  5009.074262  12.0  5831.0  8040.0  12059.0   \n",
       "51+     60005.0  9463.661678  5061.161476  12.0  6018.0  8122.0  12106.0   \n",
       "\n",
       "           max  \n",
       "Age             \n",
       "0-25   23958.0  \n",
       "26-50  23961.0  \n",
       "51+    23960.0  "
      ]
     },
     "execution_count": 214,
     "metadata": {},
     "output_type": "execute_result"
    }
   ],
   "source": [
    "df.groupby('Age')['Purchase'].describe()"
   ]
  },
  {
   "cell_type": "markdown",
   "id": "5389c7b7",
   "metadata": {},
   "source": [
    "## mean spent of '51+' age group is slightly higher than others"
   ]
  },
  {
   "cell_type": "code",
   "execution_count": 215,
   "id": "cb5ef0a2",
   "metadata": {},
   "outputs": [
    {
     "data": {
      "text/plain": [
       "<AxesSubplot:xlabel='Age', ylabel='Purchase'>"
      ]
     },
     "execution_count": 215,
     "metadata": {},
     "output_type": "execute_result"
    },
    {
     "data": {
      "image/png": "[encoded data removed]",
      "text/plain": [
       "<Figure size 640x480 with 1 Axes>"
      ]
     },
     "metadata": {},
     "output_type": "display_data"
    }
   ],
   "source": [
    "sns.boxplot(x='Age', y='Purchase', data=df)"
   ]
  },
  {
   "cell_type": "code",
   "execution_count": 217,
   "id": "b4e97016",
   "metadata": {},
   "outputs": [
    {
     "data": {
      "text/plain": [
       "<AxesSubplot:ylabel='Count'>"
      ]
     },
     "execution_count": 217,
     "metadata": {},
     "output_type": "execute_result"
    },
    {
     "data": {
      "image/png": "[encoded data removed]",
      "text/plain": [
       "<Figure size 640x480 with 1 Axes>"
      ]
     },
     "metadata": {},
     "output_type": "display_data"
    }
   ],
   "source": [
    "sample_0_25_trend = []\n",
    "for i in range(1000):    \n",
    "    sample_mean = df[df['Age']=='0-25'].sample(500, replace=True)['Purchase'].mean()\n",
    "    sample_0_25_trend.append(sample_mean)\n",
    "sns.histplot(sample_0_25_trend)"
   ]
  },
  {
   "cell_type": "code",
   "execution_count": 218,
   "id": "78727632",
   "metadata": {},
   "outputs": [
    {
     "data": {
      "text/plain": [
       "<AxesSubplot:ylabel='Count'>"
      ]
     },
     "execution_count": 218,
     "metadata": {},
     "output_type": "execute_result"
    },
    {
     "data": {
      "image/png": "[encoded data removed]",
      "text/plain": [
       "<Figure size 640x480 with 1 Axes>"
      ]
     },
     "metadata": {},
     "output_type": "display_data"
    }
   ],
   "source": [
    "sample_26_50_trend = []\n",
    "for i in range(1000):    \n",
    "    sample_mean = df[df['Age']=='26-50'].sample(500, replace=True)['Purchase'].mean()\n",
    "    sample_26_50_trend.append(sample_mean)\n",
    "sns.histplot(sample_26_50_trend)"
   ]
  },
  {
   "cell_type": "code",
   "execution_count": 219,
   "id": "7e712173",
   "metadata": {},
   "outputs": [
    {
     "data": {
      "text/plain": [
       "<AxesSubplot:ylabel='Count'>"
      ]
     },
     "execution_count": 219,
     "metadata": {},
     "output_type": "execute_result"
    },
    {
     "data": {
      "image/png": "[encoded data removed]",
      "text/plain": [
       "<Figure size 640x480 with 1 Axes>"
      ]
     },
     "metadata": {},
     "output_type": "display_data"
    }
   ],
   "source": [
    "sample_51_plus_trend = []\n",
    "for i in range(1000):    \n",
    "    sample_mean = df[df['Age']=='51+'].sample(500, replace=True)['Purchase'].mean()\n",
    "    sample_51_plus_trend.append(sample_mean)\n",
    "sns.histplot(sample_51_plus_trend)"
   ]
  },
  {
   "cell_type": "markdown",
   "id": "d0935662",
   "metadata": {},
   "source": [
    "# Checking CI of mean values at confidence level of 99, 95 & 90 respectively for all 3 age groups"
   ]
  },
  {
   "cell_type": "code",
   "execution_count": 224,
   "id": "23f94d20",
   "metadata": {},
   "outputs": [
    {
     "data": {
      "text/plain": [
       "array([8573.59855, 9732.53111])"
      ]
     },
     "execution_count": 224,
     "metadata": {},
     "output_type": "execute_result"
    }
   ],
   "source": [
    "CI_99_0_25 = np.percentile(sample_0_25_trend, [0.5, 99.5])\n",
    "CI_99_0_25                          "
   ]
  },
  {
   "cell_type": "code",
   "execution_count": 225,
   "id": "0a79e364",
   "metadata": {},
   "outputs": [
    {
     "data": {
      "text/plain": [
       "array([8713.57584, 9878.81968])"
      ]
     },
     "execution_count": 225,
     "metadata": {},
     "output_type": "execute_result"
    }
   ],
   "source": [
    "CI_99_26_50 = np.percentile(sample_26_50_trend, [0.5, 99.5])\n",
    "CI_99_26_50                          "
   ]
  },
  {
   "cell_type": "code",
   "execution_count": 226,
   "id": "7b5035b5",
   "metadata": {},
   "outputs": [
    {
     "data": {
      "text/plain": [
       "array([8957.71906, 9996.06423])"
      ]
     },
     "execution_count": 226,
     "metadata": {},
     "output_type": "execute_result"
    }
   ],
   "source": [
    "CI_99_51_plus = np.percentile(sample_51_plus_trend, [0.5, 99.5])\n",
    "CI_99_51_plus                          "
   ]
  },
  {
   "cell_type": "code",
   "execution_count": 221,
   "id": "c19e16b9",
   "metadata": {},
   "outputs": [
    {
     "data": {
      "text/plain": [
       "array([8712.72965, 9605.24435])"
      ]
     },
     "execution_count": 221,
     "metadata": {},
     "output_type": "execute_result"
    }
   ],
   "source": [
    "CI_95_0_25 = np.percentile(sample_0_25_trend, [2.5, 97.5])\n",
    "CI_95_0_25                          "
   ]
  },
  {
   "cell_type": "code",
   "execution_count": 222,
   "id": "b1107aa8",
   "metadata": {},
   "outputs": [
    {
     "data": {
      "text/plain": [
       "array([8835.08105, 9688.61375])"
      ]
     },
     "execution_count": 222,
     "metadata": {},
     "output_type": "execute_result"
    }
   ],
   "source": [
    "CI_95_26_50 = np.percentile(sample_26_50_trend, [2.5, 97.5])\n",
    "CI_95_26_50                          "
   ]
  },
  {
   "cell_type": "code",
   "execution_count": 227,
   "id": "c3852ad7",
   "metadata": {},
   "outputs": [
    {
     "data": {
      "text/plain": [
       "array([9013.37725, 9908.99975])"
      ]
     },
     "execution_count": 227,
     "metadata": {},
     "output_type": "execute_result"
    }
   ],
   "source": [
    "CI_95_51_plus = np.percentile(sample_51_plus_trend, [2.5, 97.5])\n",
    "CI_95_51_plus                          "
   ]
  },
  {
   "cell_type": "code",
   "execution_count": 228,
   "id": "c2d3e1f4",
   "metadata": {},
   "outputs": [
    {
     "data": {
      "text/plain": [
       "array([8797.0388, 9526.7737])"
      ]
     },
     "execution_count": 228,
     "metadata": {},
     "output_type": "execute_result"
    }
   ],
   "source": [
    "CI_90_0_25 = np.percentile(sample_0_25_trend, [5, 95])\n",
    "CI_90_0_25                          "
   ]
  },
  {
   "cell_type": "code",
   "execution_count": 229,
   "id": "30cf1e35",
   "metadata": {},
   "outputs": [
    {
     "data": {
      "text/plain": [
       "array([8902.8663, 9634.7874])"
      ]
     },
     "execution_count": 229,
     "metadata": {},
     "output_type": "execute_result"
    }
   ],
   "source": [
    "CI_90_26_50 = np.percentile(sample_26_50_trend, [5, 95])\n",
    "CI_90_26_50                          "
   ]
  },
  {
   "cell_type": "code",
   "execution_count": 233,
   "id": "8aa3a3d0",
   "metadata": {},
   "outputs": [
    {
     "data": {
      "text/plain": [
       "array([9085.9786, 9828.027 ])"
      ]
     },
     "execution_count": 233,
     "metadata": {},
     "output_type": "execute_result"
    }
   ],
   "source": [
    "CI_90_51_plus = np.percentile(sample_51_plus_trend, [5, 95])\n",
    "CI_90_51_plus                          "
   ]
  },
  {
   "cell_type": "markdown",
   "id": "92c3c4eb",
   "metadata": {},
   "source": [
    "## 👆Values are overlapping"
   ]
  },
  {
   "cell_type": "markdown",
   "id": "3cabb8ea",
   "metadata": {},
   "source": [
    "# Insights & Recommendations:\n",
    "## 1) Gender and Purchase Amount:\n",
    "#### •\tThe median purchase amount for males and females is almost the same, despite the difference in the number of males and females. This indicates that there may not be a significant difference in spending behavior between genders.\n",
    "#### •\tHowever, the mean purchase amount is slightly higher for males compared to females. This suggests that there may be some variation in spending patterns between genders.\n",
    "## 2) Gender and Average Purchase Amount:\n",
    "#### •\tWith a 90% confidence level, it can be inferred that the average purchase amount of females is slightly lower than that of males. This implies that, on average, males may spend slightly more than females.\n",
    "#### •\tIt's important to note that the difference in means may not be substantial, and further analysis or a larger sample size may be needed to draw more conclusive insights.\n",
    "## 3) Marital Status and Purchase Amount:\n",
    "#### •\tThe mean and median purchase amounts are the same for both married and single individuals. This indicates that marital status does not have a significant impact on purchase behavior in the given dataset.\n",
    "## 4) Gender and Confidence Intervals:\n",
    "### •\tThe confidence intervals for the mean purchase amounts of males and females overlap at all given confidence levels (90%, 95%, and 99%). This suggests that there is no statistically significant difference in the mean purchase amounts between genders in the population.\n",
    "### •\tThe overlapping confidence intervals indicate that the observed differences in the sample means could be due to random sampling variability rather than a true difference in the population.\n",
    "## 5) Age Group and Purchase Amount:\n",
    "#### •\tThe '51+' age group has a slightly higher mean purchase amount compared to other age groups. This suggests that older individuals may tend to spend slightly more on purchases.\n",
    "\n",
    "## Based on these findings, the following recommendations can be made:\n",
    "#### •\tConsider targeted marketing strategies to cater to the specific preferences and behaviors of different genders.\n",
    "#### •\tFurther investigate the factors that contribute to the difference in mean purchase amounts between genders, such as product preferences, marketing channels, or customer demographics.\n",
    "#### •\tContinuously monitor and analyze purchase behavior across different age groups to identify trends and opportunities for tailored marketing campaigns.\n",
    "#### •\tConduct additional research or collect more data to validate the findings and gain deeper insights into the factors influencing purchase behavior.\n",
    "#### •\tConsider conducting customer surveys or interviews to gather qualitative data and understand the underlying motivations behind purchase decisions.\n",
    "\n",
    "\n",
    "\n",
    "\n"
   ]
  }
 ],
 "metadata": {
  "kernelspec": {
   "display_name": "Python 3 (ipykernel)",
   "language": "python",
   "name": "python3"
  },
  "language_info": {
   "codemirror_mode": {
    "name": "ipython",
    "version": 3
   },
   "file_extension": ".py",
   "mimetype": "text/x-python",
   "name": "python",
   "nbconvert_exporter": "python",
   "pygments_lexer": "ipython3",
   "version": "3.9.13"
  }
 },
 "nbformat": 4,
 "nbformat_minor": 5
}
